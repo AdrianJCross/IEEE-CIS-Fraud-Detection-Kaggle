{
 "cells": [
  {
   "cell_type": "code",
   "execution_count": 1,
   "metadata": {},
   "outputs": [
    {
     "name": "stdout",
     "output_type": "stream",
     "text": [
      "train identity inputted\n",
      "test identity inputted\n",
      "train transaction inputted\n",
      "test transaction inputted\n",
      "raw data has been input into .db file\n"
     ]
    }
   ],
   "source": [
    "import evaluate as eval\n",
    "import pandas as pd\n",
    "import numpy as np\n",
    "import sys\n",
    "import sqlite3\n",
    "import data_output as do\n",
    "data_path = '/home/across/fraud_detection_project/data/'\n",
    "output_path = '/home/across/fraud_detection_project/output/'\n",
    "\n",
    "def create_db(filename,debug):\n",
    "    conn = do.create_sql_db(filename,remove = True, debug = debug)\n",
    "    c = conn.cursor()\n",
    "    conn.commit()\n",
    "    return conn\n",
    "\n",
    "def main():\n",
    "\n",
    "    conn = create_db(filename = 'fraud_detection.db', debug = False)\n",
    "   \n",
    "    do.csv_to_sql(conn = conn, filename = \"train_identity.csv\", tablename = 'raw_train_identity', chunk_size = 10**5, debug = False)\n",
    "    print('train identity inputted')\n",
    "    do.csv_to_sql(conn = conn, filename = \"test_identity.csv\", tablename = 'raw_test_identity', chunk_size = 10**5, debug = False)\n",
    "    print('test identity inputted')\n",
    "    do.csv_to_sql(conn = conn, filename = \"train_transaction.csv\", tablename = 'raw_train_transaction', chunk_size = 10**5, debug = False)\n",
    "    print('train transaction inputted')\n",
    "    do.csv_to_sql(conn = conn, filename = \"test_transaction.csv\", tablename = 'raw_test_transaction', chunk_size = 10**5, debug = False)\n",
    "    print('test transaction inputted')\n",
    "    print('raw data has been input into .db file')\n",
    "    \n",
    "if __name__ == \"__main__\":\n",
    "    main()\n"
   ]
  },
  {
   "cell_type": "code",
   "execution_count": null,
   "metadata": {},
   "outputs": [],
   "source": []
  }
 ],
 "metadata": {
  "kernelspec": {
   "display_name": "Python 3",
   "language": "python",
   "name": "python3"
  },
  "language_info": {
   "codemirror_mode": {
    "name": "ipython",
    "version": 3
   },
   "file_extension": ".py",
   "mimetype": "text/x-python",
   "name": "python",
   "nbconvert_exporter": "python",
   "pygments_lexer": "ipython3",
   "version": "3.7.3"
  }
 },
 "nbformat": 4,
 "nbformat_minor": 4
}
